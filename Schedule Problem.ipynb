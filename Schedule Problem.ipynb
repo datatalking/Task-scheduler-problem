{
 "cells": [
  {
   "cell_type": "markdown",
   "metadata": {},
   "source": [
    "You have different tasks to finish within the day. 7 am is the earliest time and 10 pm is the latest time of the day to finish all the tasks. Since each time block is 30', there are (15 hours)*(2 blocks/hour)= 30 blocks. Each task takes different amount of time to complete and different important score. Given that there are scheduled meetings during the day that you cannot assign the tasks.  How do you assign the tasks to maximize the productivty? Note: Since there is limited time per day, you don't need to assign every task in one day, the goal is not to fit every task but to maximize the total score"
   ]
  },
  {
   "cell_type": "code",
   "execution_count": 3,
   "metadata": {
    "ExecuteTime": {
     "end_time": "2020-06-28T15:15:45.861987Z",
     "start_time": "2020-06-28T15:15:45.614326Z"
    }
   },
   "outputs": [
    {
     "data": {
      "text/html": [
       "<div>\n",
       "<style scoped>\n",
       "    .dataframe tbody tr th:only-of-type {\n",
       "        vertical-align: middle;\n",
       "    }\n",
       "\n",
       "    .dataframe tbody tr th {\n",
       "        vertical-align: top;\n",
       "    }\n",
       "\n",
       "    .dataframe thead th {\n",
       "        text-align: right;\n",
       "    }\n",
       "</style>\n",
       "<table border=\"1\" class=\"dataframe\">\n",
       "  <thead>\n",
       "    <tr style=\"text-align: right;\">\n",
       "      <th></th>\n",
       "      <th>Task name</th>\n",
       "      <th>Important score (1-5)</th>\n",
       "      <th>Time to finish</th>\n",
       "      <th>Num of blocks</th>\n",
       "    </tr>\n",
       "  </thead>\n",
       "  <tbody>\n",
       "    <tr>\n",
       "      <th>0</th>\n",
       "      <td>Complete math homework</td>\n",
       "      <td>4</td>\n",
       "      <td>60</td>\n",
       "      <td>2</td>\n",
       "    </tr>\n",
       "    <tr>\n",
       "      <th>1</th>\n",
       "      <td>Study for the Physics quiz</td>\n",
       "      <td>5</td>\n",
       "      <td>120</td>\n",
       "      <td>4</td>\n",
       "    </tr>\n",
       "    <tr>\n",
       "      <th>2</th>\n",
       "      <td>Coffee with Taylor</td>\n",
       "      <td>1</td>\n",
       "      <td>60</td>\n",
       "      <td>2</td>\n",
       "    </tr>\n",
       "    <tr>\n",
       "      <th>3</th>\n",
       "      <td>Read book</td>\n",
       "      <td>3</td>\n",
       "      <td>30</td>\n",
       "      <td>1</td>\n",
       "    </tr>\n",
       "    <tr>\n",
       "      <th>4</th>\n",
       "      <td>Complete programming project</td>\n",
       "      <td>3</td>\n",
       "      <td>150</td>\n",
       "      <td>5</td>\n",
       "    </tr>\n",
       "    <tr>\n",
       "      <th>5</th>\n",
       "      <td>Reply to emails</td>\n",
       "      <td>2</td>\n",
       "      <td>30</td>\n",
       "      <td>1</td>\n",
       "    </tr>\n",
       "    <tr>\n",
       "      <th>6</th>\n",
       "      <td>Finish essay</td>\n",
       "      <td>2</td>\n",
       "      <td>120</td>\n",
       "      <td>4</td>\n",
       "    </tr>\n",
       "    <tr>\n",
       "      <th>7</th>\n",
       "      <td>Watch movie</td>\n",
       "      <td>1</td>\n",
       "      <td>90</td>\n",
       "      <td>3</td>\n",
       "    </tr>\n",
       "    <tr>\n",
       "      <th>8</th>\n",
       "      <td>Call mom</td>\n",
       "      <td>2</td>\n",
       "      <td>30</td>\n",
       "      <td>1</td>\n",
       "    </tr>\n",
       "  </tbody>\n",
       "</table>\n",
       "</div>"
      ],
      "text/plain": [
       "                      Task name  Important score (1-5)  Time to finish  \\\n",
       "0        Complete math homework                      4              60   \n",
       "1    Study for the Physics quiz                      5             120   \n",
       "2            Coffee with Taylor                      1              60   \n",
       "3                     Read book                      3              30   \n",
       "4  Complete programming project                      3             150   \n",
       "5               Reply to emails                      2              30   \n",
       "6                  Finish essay                      2             120   \n",
       "7                   Watch movie                      1              90   \n",
       "8                      Call mom                      2              30   \n",
       "\n",
       "   Num of blocks  \n",
       "0              2  \n",
       "1              4  \n",
       "2              2  \n",
       "3              1  \n",
       "4              5  \n",
       "5              1  \n",
       "6              4  \n",
       "7              3  \n",
       "8              1  "
      ]
     },
     "execution_count": 3,
     "metadata": {},
     "output_type": "execute_result"
    }
   ],
   "source": [
    "import pandas as pd\n",
    "tasks = pd.read_csv('tasks.csv')\n",
    "tasks"
   ]
  },
  {
   "cell_type": "code",
   "execution_count": 4,
   "metadata": {
    "ExecuteTime": {
     "end_time": "2020-06-28T15:15:46.201668Z",
     "start_time": "2020-06-28T15:15:46.196174Z"
    }
   },
   "outputs": [
    {
     "data": {
      "text/plain": [
       "0     0\n",
       "1     0\n",
       "2     0\n",
       "3     0\n",
       "4     0\n",
       "5     0\n",
       "6     1\n",
       "7     1\n",
       "8     1\n",
       "9     0\n",
       "10    0\n",
       "11    1\n",
       "12    1\n",
       "13    1\n",
       "14    0\n",
       "15    0\n",
       "16    0\n",
       "17    0\n",
       "18    1\n",
       "19    1\n",
       "20    1\n",
       "21    0\n",
       "22    0\n",
       "23    0\n",
       "24    0\n",
       "25    1\n",
       "26    1\n",
       "27    1\n",
       "28    1\n",
       "29    1\n",
       "Name: Availability, dtype: int64"
      ]
     },
     "execution_count": 4,
     "metadata": {},
     "output_type": "execute_result"
    }
   ],
   "source": [
    "schedule = pd.read_csv('schedule.csv')['Availability']\n",
    "schedule"
   ]
  },
  {
   "cell_type": "markdown",
   "metadata": {},
   "source": [
    "# Input parameters:\n",
    "\n",
    "$s_i$: important score of task $i$\n",
    "\n",
    "$d_i$: number of time blocks needed to finish task $i$\n",
    "\n",
    "$b_t$: availability of time block \\; $b \\in \\{0,1\\}  $\n",
    "\n",
    "$B$: total number of time blocks \n",
    "\n",
    "$n$: total number of tasks"
   ]
  },
  {
   "cell_type": "code",
   "execution_count": 5,
   "metadata": {
    "ExecuteTime": {
     "end_time": "2020-06-28T15:15:47.846301Z",
     "start_time": "2020-06-28T15:15:47.840419Z"
    }
   },
   "outputs": [],
   "source": [
    "s = list(tasks['Important score (1-5)'])\n",
    "\n",
    "d = list(tasks['Num of blocks'])\n",
    "\n",
    "b = list(schedule)"
   ]
  },
  {
   "cell_type": "code",
   "execution_count": 6,
   "metadata": {
    "ExecuteTime": {
     "end_time": "2020-06-28T15:15:48.609027Z",
     "start_time": "2020-06-28T15:15:48.600133Z"
    }
   },
   "outputs": [
    {
     "data": {
      "text/plain": [
       "[2, 4, 2, 1, 5, 1, 4, 3, 1]"
      ]
     },
     "execution_count": 6,
     "metadata": {},
     "output_type": "execute_result"
    }
   ],
   "source": [
    "d "
   ]
  },
  {
   "cell_type": "code",
   "execution_count": 7,
   "metadata": {
    "ExecuteTime": {
     "end_time": "2020-06-28T15:15:49.261572Z",
     "start_time": "2020-06-28T15:15:49.255957Z"
    }
   },
   "outputs": [],
   "source": [
    "B = len(b)\n",
    "n = len(s)"
   ]
  },
  {
   "cell_type": "code",
   "execution_count": 8,
   "metadata": {
    "ExecuteTime": {
     "end_time": "2020-06-28T15:15:49.885944Z",
     "start_time": "2020-06-28T15:15:49.877951Z"
    }
   },
   "outputs": [
    {
     "data": {
      "text/plain": [
       "14"
      ]
     },
     "execution_count": 8,
     "metadata": {},
     "output_type": "execute_result"
    }
   ],
   "source": [
    "#Time blocks available\n",
    "A = sum(b)\n",
    "A"
   ]
  },
  {
   "cell_type": "code",
   "execution_count": null,
   "metadata": {
    "ExecuteTime": {
     "end_time": "2020-06-28T15:15:41.169079Z",
     "start_time": "2020-06-28T15:15:41.098Z"
    }
   },
   "outputs": [],
   "source": [
    "from pulp import *"
   ]
  },
  {
   "cell_type": "markdown",
   "metadata": {},
   "source": [
    "$\\text{Maximize} \\;\\; \\sum_{i=1}^{n}\\sum_{t=1}^{B} s_{i}y_{it}$"
   ]
  },
  {
   "cell_type": "code",
   "execution_count": null,
   "metadata": {
    "ExecuteTime": {
     "end_time": "2020-06-28T15:15:41.169735Z",
     "start_time": "2020-06-28T15:15:41.121Z"
    }
   },
   "outputs": [],
   "source": [
    "prob = LpProblem(\"Schedule_Tasks\",LpMaximize)"
   ]
  },
  {
   "cell_type": "markdown",
   "metadata": {},
   "source": [
    "Decision variables:\n",
    "\n",
    "Whether or not to assign the task in a specific block of time\n",
    "\n",
    "$y_{it}$ = 1 if task $i$ is assigned to time $t$, 0 otherwise"
   ]
  },
  {
   "cell_type": "code",
   "execution_count": null,
   "metadata": {
    "ExecuteTime": {
     "end_time": "2020-06-28T15:15:41.170358Z",
     "start_time": "2020-06-28T15:15:41.139Z"
    }
   },
   "outputs": [],
   "source": [
    "#Define variable\n",
    "y = LpVariable.dicts('Block', [(i,t) for i in range(n) for t in range(B)],\n",
    "                    cat='Binary')"
   ]
  },
  {
   "cell_type": "code",
   "execution_count": null,
   "metadata": {
    "ExecuteTime": {
     "end_time": "2020-06-28T15:15:41.170991Z",
     "start_time": "2020-06-28T15:15:41.140Z"
    }
   },
   "outputs": [],
   "source": [
    "#Define objective\n",
    "prob += lpSum(s[i]*b[t]*y[(i,t)] for i in range(n) for t in range(B))"
   ]
  },
  {
   "cell_type": "markdown",
   "metadata": {},
   "source": [
    "# Constraints:\n",
    "\n",
    "Sum of the time blocks of the assigned tasks should be not greater than the number of available time blocks\n",
    "\n",
    "$\\sum_{i=1}^{n}\\sum_{t=1}^{B} y_{it} \\leq A$ (1) \n",
    "\n",
    "Total number of time blocks assigned for each task should not be greater than the time needed to finish the task\n",
    "\n",
    "$\\sum_{t=1}^{B} y_{it} \\leq d_i \\;; \\forall i = 1, 2, ..., n$ (2)\n",
    "\n",
    "No more than one task each block\n",
    "\n",
    "$\\sum_{i=1}^{n} y_{it} \\leq 1 \\;; \\forall t = 1, 2, ..., B$ (3)"
   ]
  },
  {
   "cell_type": "code",
   "execution_count": 2,
   "metadata": {
    "ExecuteTime": {
     "end_time": "2020-06-28T15:15:41.279389Z",
     "start_time": "2020-06-28T15:15:41.273058Z"
    }
   },
   "outputs": [
    {
     "ename": "NameError",
     "evalue": "name 'prob' is not defined",
     "output_type": "error",
     "traceback": [
      "\u001b[0;31m---------------------------------------------------------------------------\u001b[0m",
      "\u001b[0;31mNameError\u001b[0m                                 Traceback (most recent call last)",
      "\u001b[0;32m<ipython-input-2-8cb66a80efe2>\u001b[0m in \u001b[0;36m<module>\u001b[0;34m\u001b[0m\n\u001b[0;32m----> 1\u001b[0;31m \u001b[0mprob\u001b[0m \u001b[0;34m+=\u001b[0m \u001b[0mlpSum\u001b[0m\u001b[0;34m(\u001b[0m\u001b[0my\u001b[0m\u001b[0;34m[\u001b[0m\u001b[0;34m(\u001b[0m\u001b[0mi\u001b[0m\u001b[0;34m,\u001b[0m\u001b[0mt\u001b[0m\u001b[0;34m)\u001b[0m\u001b[0;34m]\u001b[0m \u001b[0;32mfor\u001b[0m \u001b[0mi\u001b[0m \u001b[0;32min\u001b[0m \u001b[0mrange\u001b[0m\u001b[0;34m(\u001b[0m\u001b[0mn\u001b[0m\u001b[0;34m)\u001b[0m \u001b[0;32mfor\u001b[0m \u001b[0mt\u001b[0m \u001b[0;32min\u001b[0m \u001b[0mrange\u001b[0m\u001b[0;34m(\u001b[0m\u001b[0mB\u001b[0m\u001b[0;34m)\u001b[0m\u001b[0;34m)\u001b[0m \u001b[0;34m<=\u001b[0m \u001b[0mA\u001b[0m \u001b[0;31m#1\u001b[0m\u001b[0;34m\u001b[0m\u001b[0;34m\u001b[0m\u001b[0m\n\u001b[0m\u001b[1;32m      2\u001b[0m \u001b[0;34m\u001b[0m\u001b[0m\n\u001b[1;32m      3\u001b[0m \u001b[0;34m\u001b[0m\u001b[0m\n\u001b[1;32m      4\u001b[0m \u001b[0;32mfor\u001b[0m \u001b[0mi\u001b[0m \u001b[0;32min\u001b[0m \u001b[0mrange\u001b[0m\u001b[0;34m(\u001b[0m\u001b[0mn\u001b[0m\u001b[0;34m)\u001b[0m\u001b[0;34m:\u001b[0m\u001b[0;34m\u001b[0m\u001b[0;34m\u001b[0m\u001b[0m\n\u001b[1;32m      5\u001b[0m     \u001b[0mprob\u001b[0m \u001b[0;34m+=\u001b[0m \u001b[0mlpSum\u001b[0m\u001b[0;34m(\u001b[0m\u001b[0my\u001b[0m\u001b[0;34m[\u001b[0m\u001b[0;34m(\u001b[0m\u001b[0mi\u001b[0m\u001b[0;34m,\u001b[0m\u001b[0mt\u001b[0m\u001b[0;34m)\u001b[0m\u001b[0;34m]\u001b[0m \u001b[0;32mfor\u001b[0m \u001b[0mt\u001b[0m \u001b[0;32min\u001b[0m \u001b[0mrange\u001b[0m\u001b[0;34m(\u001b[0m\u001b[0mB\u001b[0m\u001b[0;34m)\u001b[0m\u001b[0;34m)\u001b[0m \u001b[0;34m<=\u001b[0m \u001b[0md\u001b[0m\u001b[0;34m[\u001b[0m\u001b[0mi\u001b[0m\u001b[0;34m]\u001b[0m \u001b[0;31m#2\u001b[0m\u001b[0;34m\u001b[0m\u001b[0;34m\u001b[0m\u001b[0m\n",
      "\u001b[0;31mNameError\u001b[0m: name 'prob' is not defined"
     ]
    }
   ],
   "source": [
    "prob += lpSum(y[(i,t)] for i in range(n) for t in range(B)) <= A #1\n",
    "\n",
    "\n",
    "for i in range(n):\n",
    "    prob += lpSum(y[(i,t)] for t in range(B)) <= d[i] #2\n",
    "\n",
    "for t in range(B):\n",
    "    prob += lpSum(y[(i,t)] for i in range(n)) <= 1 #3\n"
   ]
  },
  {
   "cell_type": "code",
   "execution_count": null,
   "metadata": {
    "ExecuteTime": {
     "end_time": "2020-06-28T15:15:41.280582Z",
     "start_time": "2020-06-28T15:15:41.163Z"
    }
   },
   "outputs": [],
   "source": [
    "prob.solve()"
   ]
  },
  {
   "cell_type": "code",
   "execution_count": null,
   "metadata": {
    "ExecuteTime": {
     "end_time": "2020-06-28T15:15:41.281134Z",
     "start_time": "2020-06-28T15:15:41.164Z"
    }
   },
   "outputs": [],
   "source": [
    "import numpy as np\n",
    "tasks = np.zeros((n,B))\n",
    "chosen_tasks = []\n",
    "print(\"Assignment accomplished!\")\n",
    "for i in range(n):\n",
    "    for t in range(B):\n",
    "        tasks[i][t]= y[(i,t)].varValue*(i+1)\n",
    "        if y[(i,t)].varValue == 1:\n",
    "            if i+1 not in chosen_tasks:\n",
    "                chosen_tasks.append(i+1)\n",
    "        \n",
    "print('Chosen tasks are: {}'.format(chosen_tasks))\n",
    "\n"
   ]
  },
  {
   "cell_type": "code",
   "execution_count": null,
   "metadata": {
    "ExecuteTime": {
     "end_time": "2020-06-28T15:15:41.281764Z",
     "start_time": "2020-06-28T15:15:41.165Z"
    }
   },
   "outputs": [],
   "source": [
    "tasks"
   ]
  },
  {
   "cell_type": "code",
   "execution_count": null,
   "metadata": {
    "ExecuteTime": {
     "end_time": "2020-06-28T15:15:41.282308Z",
     "start_time": "2020-06-28T15:15:41.167Z"
    }
   },
   "outputs": [],
   "source": [
    "import numpy as np\n",
    "\n",
    "import matplotlib.pyplot as plt\n",
    "fig = plt.figure(figsize = (20,20))\n",
    "#1x1 grid, first subplot\n",
    "ax = fig.add_subplot(111)\n",
    "#Make the y-axis invisible\n",
    "ax.axes.get_yaxis().set_visible(False)\n",
    "#Set the ratio of y-unit to x-unit\n",
    "ax.set_aspect(1)\n",
    "\n",
    "def avg(a, b):\n",
    "    return (a + b) / 2.0\n",
    "\n",
    "#y is the order of row, row is the data of the rows\n",
    "for y, row in enumerate(tasks):\n",
    "    for x, col in enumerate(row):\n",
    "        x1 = [x, x+1]\n",
    "        y1 = [0, 0]\n",
    "        y2 = [3, 3]\n",
    "            \n",
    "        if col == 1:\n",
    "            #Fill the area between two horizontal curves.\n",
    "            plt.fill_between(x1, y1, y2=y2, color='red')\n",
    "            #Fill the text in the middle of 2 units in x and y-axis\n",
    "            plt.text(avg(x1[0], x1[1]), avg(y1[0],y2[0]), \"0\",\n",
    "                    horizontalalignment='center', verticalalignment='center')\n",
    "        \n",
    "        if col == 2 :\n",
    "            #Fill the area between two horizontal curves.\n",
    "            plt.fill_between(x1, y1, y2=y2, color='pink')\n",
    "            #Fill the text in the middle of 2 units in x and y-axis\n",
    "            plt.text(avg(x1[0], x1[1]), avg(y1[0],y2[0]), \"1\",\n",
    "                    horizontalalignment='center', verticalalignment='center')\n",
    "\n",
    "        if col == 4:\n",
    "            #Fill the area between two horizontal curves.\n",
    "            plt.fill_between(x1, y1, y2=y2, color='green')\n",
    "            #Fill the text in the middle of 2 units in x and y-axis\n",
    "            plt.text(avg(x1[0], x1[1]), avg(y1[0],y2[0]), \"3\",\n",
    "                    horizontalalignment='center', verticalalignment='center')\n",
    "\n",
    "        if col == 5:\n",
    "            #Fill the area between two horizontal curves.\n",
    "            plt.fill_between(x1, y1, y2=y2, color='purple')\n",
    "            #Fill the text in the middle of 2 units in x and y-axis\n",
    "            plt.text(avg(x1[0], x1[1]), avg(y1[0],y2[0]), \"4\",\n",
    "                    horizontalalignment='center', verticalalignment='center')\n",
    "            \n",
    "        if col == 7:\n",
    "            #Fill the area between two horizontal curves.\n",
    "            plt.fill_between(x1, y1, y2=y2, color='blue')\n",
    "            #Fill the text in the middle of 2 units in x and y-axis\n",
    "            plt.text(avg(x1[0], x1[1]), avg(y1[0],y2[0]), \"6\",\n",
    "                    horizontalalignment='center', verticalalignment='center')\n",
    "        \n",
    "            \n",
    "ax.set_xlabel('Time')\n",
    "plt.show()\n",
    "\n",
    "        \n",
    "        \n",
    "        "
   ]
  },
  {
   "cell_type": "code",
   "execution_count": null,
   "metadata": {
    "ExecuteTime": {
     "end_time": "2020-06-28T15:15:41.282918Z",
     "start_time": "2020-06-28T15:15:41.169Z"
    }
   },
   "outputs": [],
   "source": [
    "pulp.value(prob.objective) "
   ]
  },
  {
   "cell_type": "code",
   "execution_count": null,
   "metadata": {
    "ExecuteTime": {
     "end_time": "2020-06-28T15:15:41.283540Z",
     "start_time": "2020-06-28T15:15:41.170Z"
    }
   },
   "outputs": [],
   "source": [
    "prob.writeLP('task_problem.lp')"
   ]
  },
  {
   "cell_type": "markdown",
   "metadata": {},
   "source": [
    "Questions:\n",
    "-Is it necessary to complete one task in one day when get started?\n",
    "-How to make the tasks continuous once get started but doesn't need to finish on the same day if the time does not allow?\n",
    "    +precedence constraints (Single Machine Scheduling): One task cannot start until another task starts\n",
    "    +No overlap constraints: One task at a time"
   ]
  },
  {
   "cell_type": "markdown",
   "metadata": {},
   "source": [
    "Observations:\n",
    "-The tasks with highest scores would be attempted to fit into the schedule until either time blocks are ran out out the task is finished"
   ]
  }
 ],
 "metadata": {
  "kernelspec": {
   "display_name": "Python 3",
   "language": "python",
   "name": "python3"
  },
  "language_info": {
   "codemirror_mode": {
    "name": "ipython",
    "version": 3
   },
   "file_extension": ".py",
   "mimetype": "text/x-python",
   "name": "python",
   "nbconvert_exporter": "python",
   "pygments_lexer": "ipython3",
   "version": "3.7.6"
  },
  "latex_envs": {
   "LaTeX_envs_menu_present": true,
   "autoclose": false,
   "autocomplete": true,
   "bibliofile": "biblio.bib",
   "cite_by": "apalike",
   "current_citInitial": 1,
   "eqLabelWithNumbers": true,
   "eqNumInitial": 1,
   "hotkeys": {
    "equation": "Ctrl-E",
    "itemize": "Ctrl-I"
   },
   "labels_anchors": false,
   "latex_user_defs": false,
   "report_style_numbering": false,
   "user_envs_cfg": false
  },
  "toc": {
   "base_numbering": 1,
   "nav_menu": {},
   "number_sections": true,
   "sideBar": true,
   "skip_h1_title": false,
   "title_cell": "Table of Contents",
   "title_sidebar": "Contents",
   "toc_cell": false,
   "toc_position": {},
   "toc_section_display": true,
   "toc_window_display": false
  }
 },
 "nbformat": 4,
 "nbformat_minor": 2
}
